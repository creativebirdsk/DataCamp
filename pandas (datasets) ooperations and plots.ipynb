{
 "cells": [
  {
   "cell_type": "code",
   "execution_count": 31,
   "metadata": {},
   "outputs": [],
   "source": [
    "import pandas as pd\n",
    "import os\n",
    "import numpy as np"
   ]
  },
  {
   "cell_type": "code",
   "execution_count": 18,
   "metadata": {},
   "outputs": [
    {
     "name": "stdout",
     "output_type": "stream",
     "text": [
      "                    Name Team          Position  Height  Weight    Age  \\\n",
      "0          Adam_Donachie  BAL           Catcher      74     180  22.99   \n",
      "1              Paul_Bako  BAL           Catcher      74     215  34.69   \n",
      "2        Ramon_Hernandez  BAL           Catcher      72     210  30.78   \n",
      "3           Kevin_Millar  BAL     First_Baseman      72     210  35.43   \n",
      "4            Chris_Gomez  BAL     First_Baseman      73     188  35.71   \n",
      "5          Brian_Roberts  BAL    Second_Baseman      69     176  29.39   \n",
      "6          Miguel_Tejada  BAL         Shortstop      69     209  30.77   \n",
      "7            Melvin_Mora  BAL     Third_Baseman      71     200  35.07   \n",
      "8            Aubrey_Huff  BAL     Third_Baseman      76     231  30.19   \n",
      "9             Adam_Stern  BAL        Outfielder      71     180  27.05   \n",
      "10       Jeff_Fiorentino  BAL        Outfielder      73     188  23.88   \n",
      "11         Freddie_Bynum  BAL        Outfielder      73     180  26.96   \n",
      "12         Nick_Markakis  BAL        Outfielder      74     185  23.29   \n",
      "13         Brandon_Fahey  BAL        Outfielder      74     160  26.11   \n",
      "14       Corey_Patterson  BAL        Outfielder      69     180  27.55   \n",
      "15            Jay_Payton  BAL        Outfielder      70     185  34.27   \n",
      "16           Erik_Bedard  BAL  Starting_Pitcher      73     189  27.99   \n",
      "17           Hayden_Penn  BAL  Starting_Pitcher      75     185  22.38   \n",
      "18           Adam_Loewen  BAL  Starting_Pitcher      78     219  22.89   \n",
      "19        Daniel_Cabrera  BAL  Starting_Pitcher      79     230  25.76   \n",
      "20        Steve_Trachsel  BAL  Starting_Pitcher      76     205  36.33   \n",
      "21          Jaret_Wright  BAL  Starting_Pitcher      74     230  31.17   \n",
      "22           Kris_Benson  BAL  Starting_Pitcher      76     195  32.31   \n",
      "23      Scott_Williamson  BAL    Relief_Pitcher      72     180  31.03   \n",
      "24          John_Parrish  BAL    Relief_Pitcher      71     192  29.26   \n",
      "25            Danys_Baez  BAL    Relief_Pitcher      75     225  29.47   \n",
      "26         Chad_Bradford  BAL    Relief_Pitcher      77     203  32.46   \n",
      "27          Jamie_Walker  BAL    Relief_Pitcher      74     195  35.67   \n",
      "28          Brian_Burres  BAL    Relief_Pitcher      73     182  25.89   \n",
      "29          Kurt_Birkins  BAL    Relief_Pitcher      74     188  26.55   \n",
      "...                  ...  ...               ...     ...     ...    ...   \n",
      "985          John_Nelson  STL     First_Baseman      73     190  27.99   \n",
      "986        Albert_Pujols  STL     First_Baseman      75     225  27.12   \n",
      "987         Adam_Kennedy  STL    Second_Baseman      73     185  31.14   \n",
      "988          Aaron_Miles  STL    Second_Baseman      67     180  30.21   \n",
      "989       David_Eckstein  STL         Shortstop      67     165  32.11   \n",
      "990          Scott_Rolen  STL     Third_Baseman      76     240  31.91   \n",
      "991        Scott_Spiezio  STL     Third_Baseman      74     220  34.44   \n",
      "992          Jim_Edmonds  STL        Outfielder      73     212  36.68   \n",
      "993           So_Taguchi  STL        Outfielder      70     163  37.66   \n",
      "994     Juan_Encarnacion  STL        Outfielder      75     215  30.98   \n",
      "995       Skip_Schumaker  STL        Outfielder      70     175  27.07   \n",
      "996       John_Rodriguez  STL        Outfielder      72     205  29.11   \n",
      "997         Chris_Duncan  STL        Outfielder      77     210  25.82   \n",
      "998      Adam_Wainwright  STL  Starting_Pitcher      79     205  25.50   \n",
      "999          Mark_Mulder  STL  Starting_Pitcher      78     208  29.57   \n",
      "1000       Anthony_Reyes  STL  Starting_Pitcher      74     215  25.37   \n",
      "1001       Ryan_Franklin  STL  Starting_Pitcher      75     180  33.99   \n",
      "1002           Kip_Wells  STL  Starting_Pitcher      75     200  29.86   \n",
      "1003     Chris_Carpenter  STL  Starting_Pitcher      78     230  31.84   \n",
      "1004       Russ_Springer  STL    Relief_Pitcher      76     211  38.31   \n",
      "1005  Jason_Isringhausen  STL    Relief_Pitcher      75     230  34.48   \n",
      "1006      Ricardo_Rincon  STL    Relief_Pitcher      69     190  36.88   \n",
      "1007       Braden_Looper  STL    Relief_Pitcher      75     220  32.34   \n",
      "1008        Randy_Flores  STL    Relief_Pitcher      72     180  31.58   \n",
      "1009        Josh_Hancock  STL    Relief_Pitcher      75     205  28.89   \n",
      "1010       Brad_Thompson  STL    Relief_Pitcher      73     190  25.08   \n",
      "1011       Tyler_Johnson  STL    Relief_Pitcher      74     180  25.73   \n",
      "1012      Chris_Narveson  STL    Relief_Pitcher      75     205  25.19   \n",
      "1013       Randy_Keisler  STL    Relief_Pitcher      75     190  31.01   \n",
      "1014         Josh_Kinney  STL    Relief_Pitcher      73     195  27.92   \n",
      "\n",
      "     PosCategory  \n",
      "0        Catcher  \n",
      "1        Catcher  \n",
      "2        Catcher  \n",
      "3      Infielder  \n",
      "4      Infielder  \n",
      "5      Infielder  \n",
      "6      Infielder  \n",
      "7      Infielder  \n",
      "8      Infielder  \n",
      "9     Outfielder  \n",
      "10    Outfielder  \n",
      "11    Outfielder  \n",
      "12    Outfielder  \n",
      "13    Outfielder  \n",
      "14    Outfielder  \n",
      "15    Outfielder  \n",
      "16       Pitcher  \n",
      "17       Pitcher  \n",
      "18       Pitcher  \n",
      "19       Pitcher  \n",
      "20       Pitcher  \n",
      "21       Pitcher  \n",
      "22       Pitcher  \n",
      "23       Pitcher  \n",
      "24       Pitcher  \n",
      "25       Pitcher  \n",
      "26       Pitcher  \n",
      "27       Pitcher  \n",
      "28       Pitcher  \n",
      "29       Pitcher  \n",
      "...          ...  \n",
      "985    Infielder  \n",
      "986    Infielder  \n",
      "987    Infielder  \n",
      "988    Infielder  \n",
      "989    Infielder  \n",
      "990    Infielder  \n",
      "991    Infielder  \n",
      "992   Outfielder  \n",
      "993   Outfielder  \n",
      "994   Outfielder  \n",
      "995   Outfielder  \n",
      "996   Outfielder  \n",
      "997   Outfielder  \n",
      "998      Pitcher  \n",
      "999      Pitcher  \n",
      "1000     Pitcher  \n",
      "1001     Pitcher  \n",
      "1002     Pitcher  \n",
      "1003     Pitcher  \n",
      "1004     Pitcher  \n",
      "1005     Pitcher  \n",
      "1006     Pitcher  \n",
      "1007     Pitcher  \n",
      "1008     Pitcher  \n",
      "1009     Pitcher  \n",
      "1010     Pitcher  \n",
      "1011     Pitcher  \n",
      "1012     Pitcher  \n",
      "1013     Pitcher  \n",
      "1014     Pitcher  \n",
      "\n",
      "[1015 rows x 7 columns]\n"
     ]
    }
   ],
   "source": [
    "mlb= pd.read_csv(r'C:\\Users\\Dell\\Documents\\MLB_baseball.csv')\n",
    "print(mlb)"
   ]
  },
  {
   "cell_type": "code",
   "execution_count": 21,
   "metadata": {},
   "outputs": [
    {
     "data": {
      "text/html": [
       "<div>\n",
       "<style scoped>\n",
       "    .dataframe tbody tr th:only-of-type {\n",
       "        vertical-align: middle;\n",
       "    }\n",
       "\n",
       "    .dataframe tbody tr th {\n",
       "        vertical-align: top;\n",
       "    }\n",
       "\n",
       "    .dataframe thead th {\n",
       "        text-align: right;\n",
       "    }\n",
       "</style>\n",
       "<table border=\"1\" class=\"dataframe\">\n",
       "  <thead>\n",
       "    <tr style=\"text-align: right;\">\n",
       "      <th></th>\n",
       "      <th>Name</th>\n",
       "      <th>Position</th>\n",
       "    </tr>\n",
       "  </thead>\n",
       "  <tbody>\n",
       "    <tr>\n",
       "      <th>1</th>\n",
       "      <td>Paul_Bako</td>\n",
       "      <td>Catcher</td>\n",
       "    </tr>\n",
       "    <tr>\n",
       "      <th>2</th>\n",
       "      <td>Ramon_Hernandez</td>\n",
       "      <td>Catcher</td>\n",
       "    </tr>\n",
       "    <tr>\n",
       "      <th>3</th>\n",
       "      <td>Kevin_Millar</td>\n",
       "      <td>First_Baseman</td>\n",
       "    </tr>\n",
       "    <tr>\n",
       "      <th>4</th>\n",
       "      <td>Chris_Gomez</td>\n",
       "      <td>First_Baseman</td>\n",
       "    </tr>\n",
       "    <tr>\n",
       "      <th>5</th>\n",
       "      <td>Brian_Roberts</td>\n",
       "      <td>Second_Baseman</td>\n",
       "    </tr>\n",
       "    <tr>\n",
       "      <th>6</th>\n",
       "      <td>Miguel_Tejada</td>\n",
       "      <td>Shortstop</td>\n",
       "    </tr>\n",
       "    <tr>\n",
       "      <th>7</th>\n",
       "      <td>Melvin_Mora</td>\n",
       "      <td>Third_Baseman</td>\n",
       "    </tr>\n",
       "    <tr>\n",
       "      <th>8</th>\n",
       "      <td>Aubrey_Huff</td>\n",
       "      <td>Third_Baseman</td>\n",
       "    </tr>\n",
       "    <tr>\n",
       "      <th>9</th>\n",
       "      <td>Adam_Stern</td>\n",
       "      <td>Outfielder</td>\n",
       "    </tr>\n",
       "    <tr>\n",
       "      <th>10</th>\n",
       "      <td>Jeff_Fiorentino</td>\n",
       "      <td>Outfielder</td>\n",
       "    </tr>\n",
       "  </tbody>\n",
       "</table>\n",
       "</div>"
      ],
      "text/plain": [
       "               Name        Position\n",
       "1         Paul_Bako         Catcher\n",
       "2   Ramon_Hernandez         Catcher\n",
       "3      Kevin_Millar   First_Baseman\n",
       "4       Chris_Gomez   First_Baseman\n",
       "5     Brian_Roberts  Second_Baseman\n",
       "6     Miguel_Tejada       Shortstop\n",
       "7       Melvin_Mora   Third_Baseman\n",
       "8       Aubrey_Huff   Third_Baseman\n",
       "9        Adam_Stern      Outfielder\n",
       "10  Jeff_Fiorentino      Outfielder"
      ]
     },
     "execution_count": 21,
     "metadata": {},
     "output_type": "execute_result"
    }
   ],
   "source": [
    "mlb.loc[1:10,['Name','Position']]"
   ]
  },
  {
   "cell_type": "code",
   "execution_count": 25,
   "metadata": {},
   "outputs": [
    {
     "name": "stdout",
     "output_type": "stream",
     "text": [
      "{'country': ['Brazil', 'Russia', 'India', 'China', 'South Africa'], 'capital': ['Brasilia', 'Moscow', 'New Delhi', 'Beijing', 'Pretoria'], 'area': [8.516, 17.1, 3.286, 9.597, 1.221], 'population': [200.4, 143.5, 1252, 1357, 52.98]}\n"
     ]
    }
   ],
   "source": [
    "#crerating dictionary inside a dictionary\n",
    "brics={\n",
    "\"country\":[\"Brazil\", \"Russia\", \"India\", \"China\", \"South Africa\"],\n",
    "\"capital\":[\"Brasilia\", \"Moscow\", \"New Delhi\", \"Beijing\", \"Pretoria\"],\n",
    "\"area\":[8.516, 17.10, 3.286, 9.597, 1.221],\n",
    "\"population\":[200.4, 143.5, 1252, 1357, 52.98] }\n",
    "print(brics)"
   ]
  },
  {
   "cell_type": "code",
   "execution_count": 26,
   "metadata": {},
   "outputs": [
    {
     "data": {
      "text/html": [
       "<div>\n",
       "<style scoped>\n",
       "    .dataframe tbody tr th:only-of-type {\n",
       "        vertical-align: middle;\n",
       "    }\n",
       "\n",
       "    .dataframe tbody tr th {\n",
       "        vertical-align: top;\n",
       "    }\n",
       "\n",
       "    .dataframe thead th {\n",
       "        text-align: right;\n",
       "    }\n",
       "</style>\n",
       "<table border=\"1\" class=\"dataframe\">\n",
       "  <thead>\n",
       "    <tr style=\"text-align: right;\">\n",
       "      <th></th>\n",
       "      <th>country</th>\n",
       "      <th>capital</th>\n",
       "      <th>area</th>\n",
       "      <th>population</th>\n",
       "    </tr>\n",
       "  </thead>\n",
       "  <tbody>\n",
       "    <tr>\n",
       "      <th>0</th>\n",
       "      <td>Brazil</td>\n",
       "      <td>Brasilia</td>\n",
       "      <td>8.516</td>\n",
       "      <td>200.40</td>\n",
       "    </tr>\n",
       "    <tr>\n",
       "      <th>1</th>\n",
       "      <td>Russia</td>\n",
       "      <td>Moscow</td>\n",
       "      <td>17.100</td>\n",
       "      <td>143.50</td>\n",
       "    </tr>\n",
       "    <tr>\n",
       "      <th>2</th>\n",
       "      <td>India</td>\n",
       "      <td>New Delhi</td>\n",
       "      <td>3.286</td>\n",
       "      <td>1252.00</td>\n",
       "    </tr>\n",
       "    <tr>\n",
       "      <th>3</th>\n",
       "      <td>China</td>\n",
       "      <td>Beijing</td>\n",
       "      <td>9.597</td>\n",
       "      <td>1357.00</td>\n",
       "    </tr>\n",
       "    <tr>\n",
       "      <th>4</th>\n",
       "      <td>South Africa</td>\n",
       "      <td>Pretoria</td>\n",
       "      <td>1.221</td>\n",
       "      <td>52.98</td>\n",
       "    </tr>\n",
       "  </tbody>\n",
       "</table>\n",
       "</div>"
      ],
      "text/plain": [
       "        country    capital    area  population\n",
       "0        Brazil   Brasilia   8.516      200.40\n",
       "1        Russia     Moscow  17.100      143.50\n",
       "2         India  New Delhi   3.286     1252.00\n",
       "3         China    Beijing   9.597     1357.00\n",
       "4  South Africa   Pretoria   1.221       52.98"
      ]
     },
     "execution_count": 26,
     "metadata": {},
     "output_type": "execute_result"
    }
   ],
   "source": [
    "brics=pd.DataFrame(brics)\n",
    "brics"
   ]
  },
  {
   "cell_type": "code",
   "execution_count": 28,
   "metadata": {},
   "outputs": [
    {
     "data": {
      "text/html": [
       "<div>\n",
       "<style scoped>\n",
       "    .dataframe tbody tr th:only-of-type {\n",
       "        vertical-align: middle;\n",
       "    }\n",
       "\n",
       "    .dataframe tbody tr th {\n",
       "        vertical-align: top;\n",
       "    }\n",
       "\n",
       "    .dataframe thead th {\n",
       "        text-align: right;\n",
       "    }\n",
       "</style>\n",
       "<table border=\"1\" class=\"dataframe\">\n",
       "  <thead>\n",
       "    <tr style=\"text-align: right;\">\n",
       "      <th></th>\n",
       "      <th>country</th>\n",
       "      <th>population</th>\n",
       "    </tr>\n",
       "  </thead>\n",
       "  <tbody>\n",
       "    <tr>\n",
       "      <th>1</th>\n",
       "      <td>Russia</td>\n",
       "      <td>143.5</td>\n",
       "    </tr>\n",
       "    <tr>\n",
       "      <th>2</th>\n",
       "      <td>India</td>\n",
       "      <td>1252.0</td>\n",
       "    </tr>\n",
       "    <tr>\n",
       "      <th>3</th>\n",
       "      <td>China</td>\n",
       "      <td>1357.0</td>\n",
       "    </tr>\n",
       "  </tbody>\n",
       "</table>\n",
       "</div>"
      ],
      "text/plain": [
       "  country  population\n",
       "1  Russia       143.5\n",
       "2   India      1252.0\n",
       "3   China      1357.0"
      ]
     },
     "execution_count": 28,
     "metadata": {},
     "output_type": "execute_result"
    }
   ],
   "source": [
    "brics.loc[1:3,['country','population']]"
   ]
  },
  {
   "cell_type": "code",
   "execution_count": 29,
   "metadata": {},
   "outputs": [
    {
     "data": {
      "text/html": [
       "<div>\n",
       "<style scoped>\n",
       "    .dataframe tbody tr th:only-of-type {\n",
       "        vertical-align: middle;\n",
       "    }\n",
       "\n",
       "    .dataframe tbody tr th {\n",
       "        vertical-align: top;\n",
       "    }\n",
       "\n",
       "    .dataframe thead th {\n",
       "        text-align: right;\n",
       "    }\n",
       "</style>\n",
       "<table border=\"1\" class=\"dataframe\">\n",
       "  <thead>\n",
       "    <tr style=\"text-align: right;\">\n",
       "      <th></th>\n",
       "      <th>country</th>\n",
       "      <th>capital</th>\n",
       "      <th>area</th>\n",
       "      <th>population</th>\n",
       "    </tr>\n",
       "  </thead>\n",
       "  <tbody>\n",
       "    <tr>\n",
       "      <th>0</th>\n",
       "      <td>Brazil</td>\n",
       "      <td>Brasilia</td>\n",
       "      <td>8.516</td>\n",
       "      <td>200.4</td>\n",
       "    </tr>\n",
       "    <tr>\n",
       "      <th>1</th>\n",
       "      <td>Russia</td>\n",
       "      <td>Moscow</td>\n",
       "      <td>17.100</td>\n",
       "      <td>143.5</td>\n",
       "    </tr>\n",
       "    <tr>\n",
       "      <th>3</th>\n",
       "      <td>China</td>\n",
       "      <td>Beijing</td>\n",
       "      <td>9.597</td>\n",
       "      <td>1357.0</td>\n",
       "    </tr>\n",
       "  </tbody>\n",
       "</table>\n",
       "</div>"
      ],
      "text/plain": [
       "  country   capital    area  population\n",
       "0  Brazil  Brasilia   8.516       200.4\n",
       "1  Russia    Moscow  17.100       143.5\n",
       "3   China   Beijing   9.597      1357.0"
      ]
     },
     "execution_count": 29,
     "metadata": {},
     "output_type": "execute_result"
    }
   ],
   "source": [
    "brics[brics['area']>5]"
   ]
  },
  {
   "cell_type": "code",
   "execution_count": 32,
   "metadata": {},
   "outputs": [
    {
     "data": {
      "text/html": [
       "<div>\n",
       "<style scoped>\n",
       "    .dataframe tbody tr th:only-of-type {\n",
       "        vertical-align: middle;\n",
       "    }\n",
       "\n",
       "    .dataframe tbody tr th {\n",
       "        vertical-align: top;\n",
       "    }\n",
       "\n",
       "    .dataframe thead th {\n",
       "        text-align: right;\n",
       "    }\n",
       "</style>\n",
       "<table border=\"1\" class=\"dataframe\">\n",
       "  <thead>\n",
       "    <tr style=\"text-align: right;\">\n",
       "      <th></th>\n",
       "      <th>country</th>\n",
       "      <th>capital</th>\n",
       "      <th>area</th>\n",
       "      <th>population</th>\n",
       "    </tr>\n",
       "  </thead>\n",
       "  <tbody>\n",
       "    <tr>\n",
       "      <th>0</th>\n",
       "      <td>Brazil</td>\n",
       "      <td>Brasilia</td>\n",
       "      <td>8.516</td>\n",
       "      <td>200.4</td>\n",
       "    </tr>\n",
       "    <tr>\n",
       "      <th>2</th>\n",
       "      <td>India</td>\n",
       "      <td>New Delhi</td>\n",
       "      <td>3.286</td>\n",
       "      <td>1252.0</td>\n",
       "    </tr>\n",
       "    <tr>\n",
       "      <th>3</th>\n",
       "      <td>China</td>\n",
       "      <td>Beijing</td>\n",
       "      <td>9.597</td>\n",
       "      <td>1357.0</td>\n",
       "    </tr>\n",
       "  </tbody>\n",
       "</table>\n",
       "</div>"
      ],
      "text/plain": [
       "  country    capital   area  population\n",
       "0  Brazil   Brasilia  8.516       200.4\n",
       "2   India  New Delhi  3.286      1252.0\n",
       "3   China    Beijing  9.597      1357.0"
      ]
     },
     "execution_count": 32,
     "metadata": {},
     "output_type": "execute_result"
    }
   ],
   "source": [
    "brics[np.logical_and(brics['area']>3,brics['area']<10)]"
   ]
  },
  {
   "cell_type": "code",
   "execution_count": 33,
   "metadata": {},
   "outputs": [],
   "source": [
    "import matplotlib.pyplot as plt"
   ]
  },
  {
   "cell_type": "code",
   "execution_count": 43,
   "metadata": {},
   "outputs": [
    {
     "data": {
      "image/png": "[encoded data removed]",
      "text/plain": [
       "<Figure size 432x288 with 1 Axes>"
      ]
     },
     "metadata": {
      "needs_background": "light"
     },
     "output_type": "display_data"
    }
   ],
   "source": [
    "#weight=np.array(brics['Weight'])\n",
    "#print(weight)\n",
    "plt.scatter(mlb['Team'],mlb['Height'])\n",
    "plt.show()"
   ]
  },
  {
   "cell_type": "code",
   "execution_count": 49,
   "metadata": {},
   "outputs": [
    {
     "data": {
      "image/png": "[encoded data removed]",
      "text/plain": [
       "<Figure size 432x288 with 1 Axes>"
      ]
     },
     "metadata": {
      "needs_background": "light"
     },
     "output_type": "display_data"
    }
   ],
   "source": [
    "plt.plot(brics['country'],brics['population'])\n",
    "plt.xlabel('Country')\n",
    "plt.ylabel('Population[in Millions]')\n",
    "plt.yticks([0,200,400,600,800,1000,1200,1400],['0M','2M','4M','6M','8M','10M','12M','14M'])\n",
    "plt.title('Country - Population Graph');"
   ]
  },
  {
   "cell_type": "code",
   "execution_count": null,
   "metadata": {},
   "outputs": [],
   "source": []
  }
 ],
 "metadata": {
  "kernelspec": {
   "display_name": "Python 3",
   "language": "python",
   "name": "python3"
  },
  "language_info": {
   "codemirror_mode": {
    "name": "ipython",
    "version": 3
   },
   "file_extension": ".py",
   "mimetype": "text/x-python",
   "name": "python",
   "nbconvert_exporter": "python",
   "pygments_lexer": "ipython3",
   "version": "3.7.0"
  }
 },
 "nbformat": 4,
 "nbformat_minor": 2
}
