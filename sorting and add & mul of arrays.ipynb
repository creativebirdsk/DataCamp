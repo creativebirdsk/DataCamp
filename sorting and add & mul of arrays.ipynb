{
 "cells": [
  {
   "cell_type": "code",
   "execution_count": 1,
   "metadata": {},
   "outputs": [],
   "source": [
    "import numpy as np"
   ]
  },
  {
   "cell_type": "code",
   "execution_count": 2,
   "metadata": {},
   "outputs": [
    {
     "name": "stdout",
     "output_type": "stream",
     "text": [
      "First array =\n",
      "[[2 3 8]\n",
      " [5 4 1]\n",
      " [3 2 5]]\n",
      "Second array =\n",
      "[[2 4 3]\n",
      " [8 5 2]\n",
      " [9 4 3]]\n"
     ]
    }
   ],
   "source": [
    "a1=np.array([[2,3,8],[5,4,1],[3,2,5]])\n",
    "print('First array =\\n'+str(a1))\n",
    "a2=np.array([[2,4,3],[8,5,2],[9,4,3]])\n",
    "print('Second array =\\n'+str(a2))\n",
    "a3=[5,9,2,3,4,1,7,3,5,7,6.4]"
   ]
  },
  {
   "cell_type": "code",
   "execution_count": 3,
   "metadata": {
    "scrolled": true
   },
   "outputs": [
    {
     "name": "stdout",
     "output_type": "stream",
     "text": [
      "Addition =\n",
      "[[ 4  7 11]\n",
      " [13  9  3]\n",
      " [12  6  8]]\n"
     ]
    }
   ],
   "source": [
    "add=a1+a2\n",
    "print('Addition =\\n'+str(add))"
   ]
  },
  {
   "cell_type": "code",
   "execution_count": 4,
   "metadata": {},
   "outputs": [
    {
     "name": "stdout",
     "output_type": "stream",
     "text": [
      "Multiplpication =\n",
      "[[ 4 12 24]\n",
      " [40 20  2]\n",
      " [27  8 15]]\n"
     ]
    }
   ],
   "source": [
    "mul=a1*a2\n",
    "print('Multiplpication =\\n'+str(mul))"
   ]
  },
  {
   "cell_type": "code",
   "execution_count": 5,
   "metadata": {},
   "outputs": [
    {
     "name": "stdout",
     "output_type": "stream",
     "text": [
      "Matrix Multiplication =\n",
      "[[100  55  36]\n",
      " [ 51  44  26]\n",
      " [ 67  42  28]]\n"
     ]
    }
   ],
   "source": [
    "mat_mul=a1.dot(a2)\n",
    "print('Matrix Multiplication =\\n'+str(mat_mul))"
   ]
  },
  {
   "cell_type": "code",
   "execution_count": 11,
   "metadata": {},
   "outputs": [
    {
     "name": "stdout",
     "output_type": "stream",
     "text": [
      "\n",
      " Input string =\t\n",
      "[9, 7, 7, 6.4, 5, 5, 4, 3, 3, 2, 1]\n",
      "\n",
      " Sorted string =\t\n",
      "[1, 2, 3, 3, 4, 5, 5, 6.4, 7, 7, 9]\n",
      "\n",
      " Reverse Sorted string =\t\n",
      "[9, 7, 7, 6.4, 5, 5, 4, 3, 3, 2, 1]\n"
     ]
    }
   ],
   "source": [
    "print('\\n Input string =\\t')\n",
    "print(a3)\n",
    "a3.sort()\n",
    "print('\\n Sorted string =\\t')\n",
    "print(a3)\n",
    "a3.sort(reverse=True)\n",
    "print('\\n Reverse Sorted string =\\t')\n",
    "print(a3)"
   ]
  },
  {
   "cell_type": "code",
   "execution_count": null,
   "metadata": {},
   "outputs": [],
   "source": []
  }
 ],
 "metadata": {
  "kernelspec": {
   "display_name": "Python 3",
   "language": "python",
   "name": "python3"
  },
  "language_info": {
   "codemirror_mode": {
    "name": "ipython",
    "version": 3
   },
   "file_extension": ".py",
   "mimetype": "text/x-python",
   "name": "python",
   "nbconvert_exporter": "python",
   "pygments_lexer": "ipython3",
   "version": "3.7.0"
  }
 },
 "nbformat": 4,
 "nbformat_minor": 2
}
